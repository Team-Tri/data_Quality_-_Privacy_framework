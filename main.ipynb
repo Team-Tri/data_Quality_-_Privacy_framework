{
 "cells": [
  {
   "cell_type": "code",
   "execution_count": 9,
   "metadata": {},
   "outputs": [],
   "source": [
    "import pandas as pd\n",
    "import sqlalchemy as sa\n",
    "from src.Utils.HelperFunction.helper import fetchDataMssql,encrypt_data,generate_deterministic_key,generate_non_deterministic_key\n",
    "from src.Utils.connectors.connector import connectMssql\n",
    "import json\n",
    "import re ,ast\n",
    "from src.Utils.anonymiser.anonymiser import anonymize\n",
    "import numpy as np\n",
    "\n",
    "import datetime\n",
    "\n",
    "fake = Faker()"
   ]
  },
  {
   "cell_type": "code",
   "execution_count": 2,
   "metadata": {},
   "outputs": [],
   "source": [
    "import os"
   ]
  },
  {
   "cell_type": "code",
   "execution_count": 3,
   "metadata": {},
   "outputs": [
    {
     "data": {
      "text/plain": [
       "'.'"
      ]
     },
     "execution_count": 3,
     "metadata": {},
     "output_type": "execute_result"
    }
   ],
   "source": [
    "os.curdir"
   ]
  },
  {
   "cell_type": "code",
   "execution_count": 4,
   "metadata": {},
   "outputs": [],
   "source": [
    "with open(r\"\\Users\\dhanush.shetty\\DContracts_DQP\\src\\config\\config.json\",\"r\") as j:\n",
    "    conf_=json.load(j)"
   ]
  },
  {
   "cell_type": "code",
   "execution_count": null,
   "metadata": {},
   "outputs": [],
   "source": [
    "access_= pd.read_csv(r\"C:\\Users\\dhanush.shetty\\DContracts_DQP\\src\\access_control\\Access_table.csv\")\n",
    "  "
   ]
  },
  {
   "cell_type": "code",
   "execution_count": 8,
   "metadata": {},
   "outputs": [],
   "source": [
    "meta_data = pd.read_csv(r\"C:\\Users\\dhanush.shetty\\DContracts_DQP\\src\\metadata\\Metadata_mssql_adventureworks.csv\")"
   ]
  },
  {
   "cell_type": "code",
   "execution_count": 6,
   "metadata": {},
   "outputs": [],
   "source": [
    "classified_df=pd.read_csv(r\"C:\\Users\\dhanush.shetty\\presidio_demo\\data\\Classified_metadata.csv\")"
   ]
  },
  {
   "cell_type": "code",
   "execution_count": null,
   "metadata": {},
   "outputs": [],
   "source": []
  },
  {
   "cell_type": "code",
   "execution_count": null,
   "metadata": {},
   "outputs": [
    {
     "name": "stdout",
     "output_type": "stream",
     "text": [
      "sqlalchemy instance Created\n",
      "Constructed query: SELECT * FROM DIMPRODUCT;\n",
      "sqlalchemy instance\n",
      "table DIMPRODUCT created\n",
      "sqlalchemy instance Created\n",
      "Constructed query: SELECT * FROM FACTRESELLERSALES;\n",
      "sqlalchemy instance\n",
      "table FACTRESELLERSALES created\n",
      "sqlalchemy instance Created\n",
      "Constructed query: SELECT * FROM DIMSALESTERRITORY;\n",
      "sqlalchemy instance\n",
      "table DIMSALESTERRITORY created\n",
      "sqlalchemy instance Created\n",
      "Constructed query: SELECT * FROM DIMCUSTOMER;\n",
      "sqlalchemy instance\n",
      "yes\n",
      "{'encrypt': 'b\\'6\\\\x90\\\\xc7\\\\xf3\"\\\\x83\\\\x89\\\\x94\\\\xdd\\\\xef\\\\x0e?P\\\\xc7\\\\x1eU\\':::Deterministic'}\n",
      "yes\n",
      "<class 'str'>\n",
      "{'encrypt': 'K3umf87dWRbyODuHXkNc49pYiZ3PPEn9ksBu3laDJjs=:::Non-Deterministic'}\n",
      "yes\n",
      "{'encrypt': 'K3umf87dWRbyODuHXkNc49pYiZ3PPEn9ksBu3laDJjs=:::Non-Deterministic'}\n",
      "table DIMCUSTOMER created\n",
      "sqlalchemy instance Created\n",
      "Constructed query: SELECT * FROM FACTRESELLERSALES;\n",
      "sqlalchemy instance\n",
      "table FACTRESELLERSALES created\n"
     ]
    }
   ],
   "source": [
    "for user_ in conf_:\n",
    "    SERVER_=conf_[user_].get(\"SERVER_NAME\")\n",
    "    DATABASE_=conf_[user_].get(\"DATABASE_NAME\")\n",
    "    SCHEMA_=conf_[user_].get(\"SCHEMA_NAME\")\n",
    "    PASSWORD_=conf_[user_].get(\"PASSWORD\")\n",
    "    #get tables\n",
    "    for table_ in conf_[user_].get(\"TABLE_REQUIRED\"):\n",
    "        if user_ in str(access_[\"USER_ACCESS\"][access_[\"Table Name\"]==table_].values):\n",
    "            #fetch data into df\n",
    "            # data_ = fetchDataMssql(conn_,table_,\"*\")\n",
    "            #columns \n",
    "            # columns_name=list(classified_df[classified_df[\"Table Name\"]==table_][\"Column Name\"])\n",
    "            # data_df =  pd.DataFrame.from_records(data_,columns=[columns_name])\n",
    "            \n",
    "            # data_df.to_csv(f\"C:\\\\Users\\\\dhanush.shetty\\\\presidio_demo\\\\data\\\\data_{table_}.csv\",index=False)\n",
    "            # data_df = pd.read_csv(f\"C:\\\\Users\\\\dhanush.shetty\\\\presidio_demo\\\\data\\\\data_{table_}.csv\")\n",
    "            columns_to_retain = conf_[user_][\"Columns_to_retain\"]\n",
    "            columns_to_discard = conf_[user_][\"Columns_to_discard\"]\n",
    "            columns_to_custom_anonymise = list(conf_[user_][\"Columns_for_custom_anonymise\"].keys())\n",
    "            #iterate column and tag from classified data\n",
    "            for column_,tag_ in classified_df[[\"Column Name\",\"Tag\"]][((classified_df[\"Table Name\"]==table_)\\\n",
    "                                                                     & \\\n",
    "                                                                       ((classified_df[\"Pii\"]==\"Yes\") \\\n",
    "                                                                        | (classified_df[\"Column Name\"].isin(columns_to_retain) \\\n",
    "                                                                        | (classified_df[\"Column Name\"].isin(columns_to_custom_anonymise) )))\\\n",
    "                                                                     & \\\n",
    "                                                                        (~classified_df[\"Column Name\"].isin(columns_to_discard)))\\\n",
    "                                                                    ].values:\n",
    "                \n",
    "                    #seperate rules from config \n",
    "                    if column_ not in  columns_to_custom_anonymise :\n",
    "                        #skip column with no tags\n",
    "                        if str(tag_) != \"nan\":\n",
    "                            rule_ = conf_[user_].get(f\"{tag_}\")\n",
    "                            #debug for checking values\n",
    "                            # print(user_,column_,tag_,rule_)\n",
    "                            #check if rules if encryption is asked to register keys and user into log for security purpose\n",
    "                            if [x for x in rule_.keys()][0] == \"encrypt\":\n",
    "                                # check if its deterministic or non deterministic type of encryption as both requires different keys\n",
    "                                #debug\n",
    "                                # print(\"yes\")\n",
    "                                if rule_[\"encrypt\"] == \"Deterministic\":\n",
    "                                    key_ = generate_deterministic_key(f\"{user_}_{datetime.datetime.now()}\")\n",
    "                                    rule_[\"encrypt\"]=f\"{key_}:::Deterministic\"\n",
    "                                elif rule_[\"encrypt\"] == \"Non-Deterministic\":\n",
    "                                    key_ = generate_non_deterministic_key()\n",
    "                                    # print(type(key_))\n",
    "                                    rule_[\"encrypt\"]=f\"{key_}:::Non-Deterministic\"\n",
    "                                # print(rule_)\n",
    "                                #write a log for encryption \n",
    "                                pd.DataFrame([[user_,DATABASE_,table_,column_,rule_[\"encrypt\"].split(\":::\")[0],rule_[\"encrypt\"].split(\":::\")[1],datetime.datetime.now()]],columns=[\"user\",\"database\",\"table\",\"column\",\"key\",\"type\",\"time\"]).to_csv(\"Encrypt_log.csv\",mode=\"a\",index=False)\n",
    "                            \n",
    "                            #apply given rules from config to data\n",
    "                            data_df[column_] = data_df[column_].apply(lambda x : anonymize(str(x),rule_,tag_))\n",
    "                        else:\n",
    "                            continue\n",
    "                    else:\n",
    "                        rule_ = conf_[user_][\"Columns_for_custom_anonymise\"][column_]\n",
    "                        #debug for checking values\n",
    "                        # print(user_,column_,tag_,rule_)\n",
    "                        #check if rules if encryption is asked to register keys and user into log for security purpose\n",
    "                        if [x for x in rule_.keys()][0] == \"encrypt\":\n",
    "                            # check if its deterministic or non deterministic type of encryption as both requires different keys\n",
    "                            #debug\n",
    "                            # print(\"yes\")\n",
    "                            if rule_[\"encrypt\"] == \"Deterministic\":\n",
    "                                key_ = generate_deterministic_key(f\"{user_}_{datetime.datetime.now()}\")\n",
    "                                rule_[\"encrypt\"]=f\"{key_}:::Deterministic\"\n",
    "                            elif rule_[\"encrypt\"] == \"Non-Deterministic\":\n",
    "                                key_ = generate_non_deterministic_key()\n",
    "                                # print(type(key_))\n",
    "                                rule_[\"encrypt\"]=f\"{key_}:::Non-Deterministic\"\n",
    "                            # print(rule_)\n",
    "                            #write a log for encryption \n",
    "                            key,type_ = rule_[\"encrypt\"].split(\":::\")\n",
    "                            pd.DataFrame([[user_,DATABASE_,table_,column_,key,type_,datetime.datetime.now()]],columns=[\"user\",\"database\",\"table\",\"column\",\"key\",\"type\",\"time\"]).to_csv(\"Encrypt_log.csv\",mode=\"a\",index=False)\n",
    "                        \n",
    "                        #apply given rules from config to data\n",
    "                        data_df[column_] = data_df[column_].apply(lambda x : anonymize(str(x),rule_,tag_))\n",
    "                  \n",
    "            #write data into csv      \n",
    "            data_df.to_csv(f\"{user_}_{table_}_19.csv\",index=False)\n",
    "            print(f\"table {table_} created\")  \n",
    "        else:\n",
    "            print(f\"user {user_} has no access table {table_}\")\n",
    "        "
   ]
  },
  {
   "cell_type": "code",
   "execution_count": null,
   "metadata": {},
   "outputs": [],
   "source": []
  },
  {
   "cell_type": "code",
   "execution_count": null,
   "metadata": {},
   "outputs": [],
   "source": []
  }
 ],
 "metadata": {
  "kernelspec": {
   "display_name": "DContracts_DQP",
   "language": "python",
   "name": "python3"
  },
  "language_info": {
   "codemirror_mode": {
    "name": "ipython",
    "version": 3
   },
   "file_extension": ".py",
   "mimetype": "text/x-python",
   "name": "python",
   "nbconvert_exporter": "python",
   "pygments_lexer": "ipython3",
   "version": "3.9.0"
  }
 },
 "nbformat": 4,
 "nbformat_minor": 2
}
